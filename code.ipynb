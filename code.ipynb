{
 "cells": [
  {
   "cell_type": "code",
   "execution_count": 21,
   "metadata": {},
   "outputs": [
    {
     "data": {
      "text/plain": [
       "WindowsPath('g:/Mi unidad/Personal/IMT/3A/Advanced Machine Learning/Project_Sleep_States/Data/train_series.parquet')"
      ]
     },
     "execution_count": 21,
     "metadata": {},
     "output_type": "execute_result"
    }
   ],
   "source": [
    "import pandas as pd\n",
    "from pathlib import Path\n",
    "#import pyarrow.parquet as pq\n",
    "\n",
    "train_path = Path(Path.cwd(), 'Data', 'train_series.parquet')\n",
    "train_path"
   ]
  },
  {
   "cell_type": "code",
   "execution_count": 22,
   "metadata": {},
   "outputs": [
    {
     "name": "stdout",
     "output_type": "stream",
     "text": [
      "      series_id  step                 timestamp  anglez    enmo\n",
      "0  038441c925bb     0  2018-08-14T15:30:00-0400  2.6367  0.0217\n",
      "1  038441c925bb     1  2018-08-14T15:30:05-0400  2.6368  0.0215\n",
      "2  038441c925bb     2  2018-08-14T15:30:10-0400  2.6370  0.0216\n",
      "3  038441c925bb     3  2018-08-14T15:30:15-0400  2.6368  0.0213\n",
      "4  038441c925bb     4  2018-08-14T15:30:20-0400  2.6368  0.0215\n"
     ]
    }
   ],
   "source": [
    "# table = pq.read_table(path)\n",
    "# train_series = table.to_pandas()  # Convert to Pandas DataFrame if needed\n",
    "train_series = pd.read_parquet(train_path)\n",
    "print(train_series.head())"
   ]
  },
  {
   "cell_type": "code",
   "execution_count": 23,
   "metadata": {},
   "outputs": [],
   "source": [
    "train_path = Path(Path.cwd(), 'Data', 'train_events.csv')\n",
    "train_events = pd.read_csv(train_path)"
   ]
  },
  {
   "cell_type": "code",
   "execution_count": null,
   "metadata": {},
   "outputs": [
    {
     "name": "stdout",
     "output_type": "stream",
     "text": [
      "<class 'pandas.core.frame.DataFrame'>\n",
      "RangeIndex: 127946340 entries, 0 to 127946339\n",
      "Data columns (total 5 columns):\n",
      " #   Column     Dtype  \n",
      "---  ------     -----  \n",
      " 0   series_id  object \n",
      " 1   step       uint32 \n",
      " 2   timestamp  object \n",
      " 3   anglez     float32\n",
      " 4   enmo       float32\n",
      "dtypes: float32(2), object(2), uint32(1)\n",
      "memory usage: 3.3+ GB\n",
      "None\n",
      "<class 'pandas.core.frame.DataFrame'>\n",
      "RangeIndex: 14508 entries, 0 to 14507\n",
      "Data columns (total 5 columns):\n",
      " #   Column     Non-Null Count  Dtype  \n",
      "---  ------     --------------  -----  \n",
      " 0   series_id  14508 non-null  object \n",
      " 1   night      14508 non-null  int64  \n",
      " 2   event      14508 non-null  object \n",
      " 3   step       9585 non-null   float64\n",
      " 4   timestamp  9585 non-null   object \n",
      "dtypes: float64(1), int64(1), object(3)\n",
      "memory usage: 566.8+ KB\n",
      "None\n"
     ]
    },
    {
     "ename": "",
     "evalue": "",
     "output_type": "error",
     "traceback": [
      "\u001b[1;31mThe Kernel crashed while executing code in the current cell or a previous cell. \n",
      "\u001b[1;31mPlease review the code in the cell(s) to identify a possible cause of the failure. \n",
      "\u001b[1;31mClick <a href='https://aka.ms/vscodeJupyterKernelCrash'>here</a> for more info. \n",
      "\u001b[1;31mView Jupyter <a href='command:jupyter.viewOutput'>log</a> for further details."
     ]
    }
   ],
   "source": [
    "print(train_series.info())\n",
    "print(train_events.info())"
   ]
  },
  {
   "cell_type": "code",
   "execution_count": null,
   "metadata": {},
   "outputs": [],
   "source": [
    "train_events"
   ]
  },
  {
   "cell_type": "code",
   "execution_count": null,
   "metadata": {},
   "outputs": [],
   "source": [
    "train_series"
   ]
  },
  {
   "cell_type": "code",
   "execution_count": 5,
   "metadata": {},
   "outputs": [],
   "source": [
    "train_series = train_series[:10000]\n",
    "train_events = train_events[:10000]"
   ]
  },
  {
   "cell_type": "code",
   "execution_count": null,
   "metadata": {},
   "outputs": [],
   "source": [
    "train_series"
   ]
  },
  {
   "cell_type": "code",
   "execution_count": 17,
   "metadata": {},
   "outputs": [
    {
     "data": {
      "application/vnd.microsoft.datawrangler.viewer.v0+json": {
       "columns": [
        {
         "name": "index",
         "rawType": "int64",
         "type": "integer"
        },
        {
         "name": "series_id",
         "rawType": "object",
         "type": "string"
        },
        {
         "name": "night",
         "rawType": "int64",
         "type": "integer"
        },
        {
         "name": "event",
         "rawType": "object",
         "type": "string"
        },
        {
         "name": "step",
         "rawType": "float64",
         "type": "float"
        },
        {
         "name": "timestamp",
         "rawType": "object",
         "type": "unknown"
        }
       ],
       "conversionMethod": "pd.DataFrame",
       "ref": "f41e77e3-b39f-49d3-9ed3-24b77435661d",
       "rows": [
        [
         "0",
         "038441c925bb",
         "1",
         "onset",
         "4992.0",
         "2018-08-14T22:26:00-0400"
        ],
        [
         "1",
         "038441c925bb",
         "1",
         "wakeup",
         "10932.0",
         "2018-08-15T06:41:00-0400"
        ],
        [
         "2",
         "038441c925bb",
         "2",
         "onset",
         "20244.0",
         "2018-08-15T19:37:00-0400"
        ],
        [
         "3",
         "038441c925bb",
         "2",
         "wakeup",
         "27492.0",
         "2018-08-16T05:41:00-0400"
        ],
        [
         "4",
         "038441c925bb",
         "3",
         "onset",
         "39996.0",
         "2018-08-16T23:03:00-0400"
        ],
        [
         "5",
         "038441c925bb",
         "3",
         "wakeup",
         "44400.0",
         "2018-08-17T05:10:00-0400"
        ],
        [
         "6",
         "038441c925bb",
         "4",
         "onset",
         "57240.0",
         "2018-08-17T23:00:00-0400"
        ],
        [
         "7",
         "038441c925bb",
         "4",
         "wakeup",
         "62856.0",
         "2018-08-18T06:48:00-0400"
        ],
        [
         "8",
         "038441c925bb",
         "5",
         "onset",
         null,
         null
        ],
        [
         "9",
         "038441c925bb",
         "5",
         "wakeup",
         null,
         null
        ],
        [
         "10",
         "038441c925bb",
         "6",
         "onset",
         "91296.0",
         "2018-08-19T22:18:00-0400"
        ],
        [
         "11",
         "038441c925bb",
         "6",
         "wakeup",
         "97860.0",
         "2018-08-20T07:25:00-0400"
        ],
        [
         "12",
         "038441c925bb",
         "7",
         "onset",
         "109500.0",
         "2018-08-20T23:35:00-0400"
        ],
        [
         "13",
         "038441c925bb",
         "7",
         "wakeup",
         "118524.0",
         "2018-08-21T12:07:00-0400"
        ],
        [
         "14",
         "038441c925bb",
         "8",
         "onset",
         "127296.0",
         "2018-08-22T00:18:00-0400"
        ],
        [
         "15",
         "038441c925bb",
         "8",
         "wakeup",
         "133332.0",
         "2018-08-22T08:41:00-0400"
        ],
        [
         "16",
         "038441c925bb",
         "9",
         "onset",
         null,
         null
        ],
        [
         "17",
         "038441c925bb",
         "9",
         "wakeup",
         null,
         null
        ],
        [
         "18",
         "038441c925bb",
         "10",
         "onset",
         "159972.0",
         "2018-08-23T21:41:00-0400"
        ],
        [
         "19",
         "038441c925bb",
         "10",
         "wakeup",
         "167400.0",
         "2018-08-24T08:00:00-0400"
        ],
        [
         "20",
         "038441c925bb",
         "11",
         "onset",
         "177036.0",
         "2018-08-24T21:23:00-0400"
        ],
        [
         "21",
         "038441c925bb",
         "11",
         "wakeup",
         "180804.0",
         "2018-08-25T02:37:00-0400"
        ],
        [
         "22",
         "038441c925bb",
         "12",
         "onset",
         "194220.0",
         "2018-08-25T21:15:00-0400"
        ],
        [
         "23",
         "038441c925bb",
         "12",
         "wakeup",
         "202272.0",
         "2018-08-26T08:26:00-0400"
        ],
        [
         "24",
         "038441c925bb",
         "13",
         "onset",
         "212304.0",
         "2018-08-26T22:22:00-0400"
        ],
        [
         "25",
         "038441c925bb",
         "13",
         "wakeup",
         "219384.0",
         "2018-08-27T08:12:00-0400"
        ],
        [
         "26",
         "038441c925bb",
         "14",
         "onset",
         null,
         null
        ],
        [
         "27",
         "038441c925bb",
         "14",
         "wakeup",
         null,
         null
        ],
        [
         "28",
         "038441c925bb",
         "15",
         "onset",
         "246324.0",
         "2018-08-28T21:37:00-0400"
        ],
        [
         "29",
         "038441c925bb",
         "15",
         "wakeup",
         "253704.0",
         "2018-08-29T07:52:00-0400"
        ],
        [
         "30",
         "038441c925bb",
         "16",
         "onset",
         "264144.0",
         "2018-08-29T22:22:00-0400"
        ],
        [
         "31",
         "038441c925bb",
         "16",
         "wakeup",
         "270132.0",
         "2018-08-30T06:41:00-0400"
        ],
        [
         "32",
         "038441c925bb",
         "17",
         "onset",
         "281376.0",
         "2018-08-30T22:18:00-0400"
        ],
        [
         "33",
         "038441c925bb",
         "17",
         "wakeup",
         "287772.0",
         "2018-08-31T07:11:00-0400"
        ],
        [
         "34",
         "038441c925bb",
         "18",
         "onset",
         "297576.0",
         "2018-08-31T20:48:00-0400"
        ],
        [
         "35",
         "038441c925bb",
         "18",
         "wakeup",
         "305232.0",
         "2018-09-01T07:26:00-0400"
        ],
        [
         "36",
         "038441c925bb",
         "19",
         "onset",
         "315900.0",
         "2018-09-01T22:15:00-0400"
        ],
        [
         "37",
         "038441c925bb",
         "19",
         "wakeup",
         "322596.0",
         "2018-09-02T07:33:00-0400"
        ],
        [
         "38",
         "038441c925bb",
         "20",
         "onset",
         "333492.0",
         "2018-09-02T22:41:00-0400"
        ],
        [
         "39",
         "038441c925bb",
         "20",
         "wakeup",
         "339060.0",
         "2018-09-03T06:25:00-0400"
        ],
        [
         "40",
         "038441c925bb",
         "21",
         "onset",
         "349596.0",
         "2018-09-03T21:03:00-0400"
        ],
        [
         "41",
         "038441c925bb",
         "21",
         "wakeup",
         "355944.0",
         "2018-09-04T05:52:00-0400"
        ],
        [
         "42",
         "038441c925bb",
         "22",
         "onset",
         "367020.0",
         "2018-09-04T21:15:00-0400"
        ],
        [
         "43",
         "038441c925bb",
         "22",
         "wakeup",
         "369912.0",
         "2018-09-05T01:16:00-0400"
        ],
        [
         "44",
         "038441c925bb",
         "23",
         "onset",
         null,
         null
        ],
        [
         "45",
         "038441c925bb",
         "23",
         "wakeup",
         null,
         null
        ],
        [
         "46",
         "03d92c9f6f8a",
         "1",
         "onset",
         "5928.0",
         "2018-05-31T20:14:00-0400"
        ],
        [
         "47",
         "03d92c9f6f8a",
         "1",
         "wakeup",
         "13524.0",
         "2018-06-01T06:47:00-0400"
        ],
        [
         "48",
         "03d92c9f6f8a",
         "2",
         "onset",
         "23220.0",
         "2018-06-01T20:15:00-0400"
        ],
        [
         "49",
         "03d92c9f6f8a",
         "2",
         "wakeup",
         "30276.0",
         "2018-06-02T06:03:00-0400"
        ]
       ],
       "shape": {
        "columns": 5,
        "rows": 10000
       }
      },
      "text/html": [
       "<div>\n",
       "<style scoped>\n",
       "    .dataframe tbody tr th:only-of-type {\n",
       "        vertical-align: middle;\n",
       "    }\n",
       "\n",
       "    .dataframe tbody tr th {\n",
       "        vertical-align: top;\n",
       "    }\n",
       "\n",
       "    .dataframe thead th {\n",
       "        text-align: right;\n",
       "    }\n",
       "</style>\n",
       "<table border=\"1\" class=\"dataframe\">\n",
       "  <thead>\n",
       "    <tr style=\"text-align: right;\">\n",
       "      <th></th>\n",
       "      <th>series_id</th>\n",
       "      <th>night</th>\n",
       "      <th>event</th>\n",
       "      <th>step</th>\n",
       "      <th>timestamp</th>\n",
       "    </tr>\n",
       "  </thead>\n",
       "  <tbody>\n",
       "    <tr>\n",
       "      <th>0</th>\n",
       "      <td>038441c925bb</td>\n",
       "      <td>1</td>\n",
       "      <td>onset</td>\n",
       "      <td>4992.0</td>\n",
       "      <td>2018-08-14T22:26:00-0400</td>\n",
       "    </tr>\n",
       "    <tr>\n",
       "      <th>1</th>\n",
       "      <td>038441c925bb</td>\n",
       "      <td>1</td>\n",
       "      <td>wakeup</td>\n",
       "      <td>10932.0</td>\n",
       "      <td>2018-08-15T06:41:00-0400</td>\n",
       "    </tr>\n",
       "    <tr>\n",
       "      <th>2</th>\n",
       "      <td>038441c925bb</td>\n",
       "      <td>2</td>\n",
       "      <td>onset</td>\n",
       "      <td>20244.0</td>\n",
       "      <td>2018-08-15T19:37:00-0400</td>\n",
       "    </tr>\n",
       "    <tr>\n",
       "      <th>3</th>\n",
       "      <td>038441c925bb</td>\n",
       "      <td>2</td>\n",
       "      <td>wakeup</td>\n",
       "      <td>27492.0</td>\n",
       "      <td>2018-08-16T05:41:00-0400</td>\n",
       "    </tr>\n",
       "    <tr>\n",
       "      <th>4</th>\n",
       "      <td>038441c925bb</td>\n",
       "      <td>3</td>\n",
       "      <td>onset</td>\n",
       "      <td>39996.0</td>\n",
       "      <td>2018-08-16T23:03:00-0400</td>\n",
       "    </tr>\n",
       "    <tr>\n",
       "      <th>...</th>\n",
       "      <td>...</td>\n",
       "      <td>...</td>\n",
       "      <td>...</td>\n",
       "      <td>...</td>\n",
       "      <td>...</td>\n",
       "    </tr>\n",
       "    <tr>\n",
       "      <th>9995</th>\n",
       "      <td>c107b5789660</td>\n",
       "      <td>35</td>\n",
       "      <td>wakeup</td>\n",
       "      <td>NaN</td>\n",
       "      <td>NaN</td>\n",
       "    </tr>\n",
       "    <tr>\n",
       "      <th>9996</th>\n",
       "      <td>c107b5789660</td>\n",
       "      <td>36</td>\n",
       "      <td>onset</td>\n",
       "      <td>NaN</td>\n",
       "      <td>NaN</td>\n",
       "    </tr>\n",
       "    <tr>\n",
       "      <th>9997</th>\n",
       "      <td>c107b5789660</td>\n",
       "      <td>36</td>\n",
       "      <td>wakeup</td>\n",
       "      <td>NaN</td>\n",
       "      <td>NaN</td>\n",
       "    </tr>\n",
       "    <tr>\n",
       "      <th>9998</th>\n",
       "      <td>c107b5789660</td>\n",
       "      <td>37</td>\n",
       "      <td>onset</td>\n",
       "      <td>NaN</td>\n",
       "      <td>NaN</td>\n",
       "    </tr>\n",
       "    <tr>\n",
       "      <th>9999</th>\n",
       "      <td>c107b5789660</td>\n",
       "      <td>37</td>\n",
       "      <td>wakeup</td>\n",
       "      <td>NaN</td>\n",
       "      <td>NaN</td>\n",
       "    </tr>\n",
       "  </tbody>\n",
       "</table>\n",
       "<p>10000 rows × 5 columns</p>\n",
       "</div>"
      ],
      "text/plain": [
       "         series_id  night   event     step                 timestamp\n",
       "0     038441c925bb      1   onset   4992.0  2018-08-14T22:26:00-0400\n",
       "1     038441c925bb      1  wakeup  10932.0  2018-08-15T06:41:00-0400\n",
       "2     038441c925bb      2   onset  20244.0  2018-08-15T19:37:00-0400\n",
       "3     038441c925bb      2  wakeup  27492.0  2018-08-16T05:41:00-0400\n",
       "4     038441c925bb      3   onset  39996.0  2018-08-16T23:03:00-0400\n",
       "...            ...    ...     ...      ...                       ...\n",
       "9995  c107b5789660     35  wakeup      NaN                       NaN\n",
       "9996  c107b5789660     36   onset      NaN                       NaN\n",
       "9997  c107b5789660     36  wakeup      NaN                       NaN\n",
       "9998  c107b5789660     37   onset      NaN                       NaN\n",
       "9999  c107b5789660     37  wakeup      NaN                       NaN\n",
       "\n",
       "[10000 rows x 5 columns]"
      ]
     },
     "execution_count": 17,
     "metadata": {},
     "output_type": "execute_result"
    }
   ],
   "source": [
    "train_events"
   ]
  },
  {
   "cell_type": "code",
   "execution_count": null,
   "metadata": {},
   "outputs": [],
   "source": [
    "df = train_series.merge(train_events, on=\"series_id\", how=\"left\")\n",
    "df"
   ]
  },
  {
   "cell_type": "code",
   "execution_count": null,
   "metadata": {},
   "outputs": [],
   "source": [
    "df = df.dropna(subset=[\"step_y\"])\n",
    "df = df.drop(columns=[\"night\", \"timestamp_x\", \"timestamp_y\"])"
   ]
  },
  {
   "cell_type": "code",
   "execution_count": null,
   "metadata": {},
   "outputs": [],
   "source": [
    "from sklearn.model_selection import train_test_split\n",
    "from sklearn.preprocessing import LabelEncoder\n",
    "\n",
    "X = df[[\"anglez\", \"enmo\"]]\n",
    "y = df[\"event\"]\n",
    "\n",
    "# Convertir \"onset\" y \"wakeup\" a valores numéricos (0 y 1)\n",
    "encoder = LabelEncoder()\n",
    "y = encoder.fit_transform(y)\n",
    "\n",
    "# Dividir en conjunto de entrenamiento y prueba\n",
    "X_train, X_test, y_train, y_test = train_test_split(X, y, test_size=0.2, random_state=42)\n"
   ]
  },
  {
   "cell_type": "code",
   "execution_count": 10,
   "metadata": {},
   "outputs": [
    {
     "name": "stdout",
     "output_type": "stream",
     "text": [
      "              precision    recall  f1-score   support\n",
      "\n",
      "           0       0.38      0.39      0.39     37927\n",
      "           1       0.38      0.37      0.38     38073\n",
      "\n",
      "    accuracy                           0.38     76000\n",
      "   macro avg       0.38      0.38      0.38     76000\n",
      "weighted avg       0.38      0.38      0.38     76000\n",
      "\n"
     ]
    }
   ],
   "source": [
    "from sklearn.ensemble import RandomForestClassifier\n",
    "from sklearn.metrics import classification_report\n",
    "\n",
    "# Inicializar el modelo\n",
    "clf = RandomForestClassifier(n_estimators=100, random_state=42)\n",
    "\n",
    "# Entrenar el modelo\n",
    "clf.fit(X_train, y_train)\n",
    "\n",
    "# Hacer predicciones\n",
    "y_pred = clf.predict(X_test)\n",
    "\n",
    "# Evaluación del modelo\n",
    "print(classification_report(y_test, y_pred))"
   ]
  },
  {
   "cell_type": "code",
   "execution_count": 12,
   "metadata": {},
   "outputs": [],
   "source": [
    "test_path = Path(Path.cwd(), 'Data', 'test_series.parquet')\n",
    "test_series = pd.read_parquet(test_path)\n",
    "X_test = test_series[[\"anglez\", \"enmo\"]]\n",
    "\n",
    "# Hacer predicciones\n",
    "test_series[\"event_pred\"] = clf.predict(X_test)\n",
    "test_series[\"score\"] = clf.predict_proba(X_test)[:, 1]  # Probabilidad de evento\n",
    "\n",
    "# Convertir números a nombres de eventos\n",
    "test_series[\"event\"] = encoder.inverse_transform(test_series[\"event_pred\"])"
   ]
  },
  {
   "cell_type": "code",
   "execution_count": 13,
   "metadata": {},
   "outputs": [
    {
     "data": {
      "application/vnd.microsoft.datawrangler.viewer.v0+json": {
       "columns": [
        {
         "name": "index",
         "rawType": "int64",
         "type": "integer"
        },
        {
         "name": "series_id",
         "rawType": "object",
         "type": "string"
        },
        {
         "name": "step",
         "rawType": "uint32",
         "type": "integer"
        },
        {
         "name": "timestamp",
         "rawType": "object",
         "type": "string"
        },
        {
         "name": "anglez",
         "rawType": "float32",
         "type": "float"
        },
        {
         "name": "enmo",
         "rawType": "float32",
         "type": "float"
        },
        {
         "name": "event_pred",
         "rawType": "int32",
         "type": "integer"
        },
        {
         "name": "score",
         "rawType": "float64",
         "type": "float"
        },
        {
         "name": "event",
         "rawType": "object",
         "type": "string"
        }
       ],
       "conversionMethod": "pd.DataFrame",
       "ref": "104dbdf4-c8ff-4cb4-b2a0-fba6492a4789",
       "rows": [
        [
         "40",
         "038441c925bb",
         "40",
         "2018-08-14T15:33:20-0400",
         "-79.9961",
         "0.0135",
         "1",
         "0.6239220142183854",
         "wakeup"
        ],
        [
         "53",
         "038441c925bb",
         "53",
         "2018-08-14T15:34:25-0400",
         "-80.0147",
         "0.0137",
         "1",
         "0.6116623143791884",
         "wakeup"
        ],
        [
         "330",
         "0402a003dae9",
         "30",
         "2018-12-18T12:47:30-0500",
         "-9.0263",
         "0.046",
         "1",
         "0.5910068360877966",
         "wakeup"
        ],
        [
         "47",
         "038441c925bb",
         "47",
         "2018-08-14T15:33:55-0400",
         "-80.0082",
         "0.014",
         "1",
         "0.586525039498738",
         "wakeup"
        ],
        [
         "95",
         "038441c925bb",
         "95",
         "2018-08-14T15:37:55-0400",
         "-80.0136",
         "0.0128",
         "1",
         "0.5841707677420224",
         "wakeup"
        ],
        [
         "7",
         "038441c925bb",
         "7",
         "2018-08-14T15:30:35-0400",
         "2.6367",
         "0.0218",
         "1",
         "0.5814400971872323",
         "wakeup"
        ],
        [
         "79",
         "038441c925bb",
         "79",
         "2018-08-14T15:36:35-0400",
         "-79.9779",
         "0.0133",
         "1",
         "0.5773216254334087",
         "wakeup"
        ],
        [
         "145",
         "038441c925bb",
         "145",
         "2018-08-14T15:42:05-0400",
         "-79.9906",
         "0.0135",
         "1",
         "0.576563801863163",
         "wakeup"
        ],
        [
         "416",
         "0402a003dae9",
         "116",
         "2018-12-18T12:54:40-0500",
         "-54.837",
         "0.0353",
         "1",
         "0.5755573324632518",
         "wakeup"
        ],
        [
         "128",
         "038441c925bb",
         "128",
         "2018-08-14T15:40:40-0400",
         "-80.1996",
         "0.0127",
         "1",
         "0.5667369253832465",
         "wakeup"
        ],
        [
         "66",
         "038441c925bb",
         "66",
         "2018-08-14T15:35:30-0400",
         "-80.003",
         "0.0134",
         "1",
         "0.5650221782589012",
         "wakeup"
        ],
        [
         "60",
         "038441c925bb",
         "60",
         "2018-08-14T15:35:00-0400",
         "-80.0103",
         "0.0138",
         "1",
         "0.5646392609191642",
         "wakeup"
        ],
        [
         "144",
         "038441c925bb",
         "144",
         "2018-08-14T15:42:00-0400",
         "-80.1869",
         "0.0136",
         "1",
         "0.5638677322798759",
         "wakeup"
        ],
        [
         "64",
         "038441c925bb",
         "64",
         "2018-08-14T15:35:20-0400",
         "-80.0107",
         "0.0132",
         "1",
         "0.5636774955573751",
         "wakeup"
        ],
        [
         "337",
         "0402a003dae9",
         "37",
         "2018-12-18T12:48:05-0500",
         "-52.1641",
         "0.1512",
         "1",
         "0.5629323877400834",
         "wakeup"
        ],
        [
         "90",
         "038441c925bb",
         "90",
         "2018-08-14T15:37:30-0400",
         "-79.9795",
         "0.0127",
         "1",
         "0.5620135305033389",
         "wakeup"
        ],
        [
         "132",
         "038441c925bb",
         "132",
         "2018-08-14T15:41:00-0400",
         "-80.1321",
         "0.0136",
         "1",
         "0.5615230489894354",
         "wakeup"
        ],
        [
         "105",
         "038441c925bb",
         "105",
         "2018-08-14T15:38:45-0400",
         "-80.0571",
         "0.0132",
         "1",
         "0.5611725756625525",
         "wakeup"
        ],
        [
         "54",
         "038441c925bb",
         "54",
         "2018-08-14T15:34:30-0400",
         "-80.0067",
         "0.0136",
         "1",
         "0.56020675777371",
         "wakeup"
        ],
        [
         "41",
         "038441c925bb",
         "41",
         "2018-08-14T15:33:25-0400",
         "-79.9863",
         "0.0137",
         "1",
         "0.5598908377413602",
         "wakeup"
        ]
       ],
       "shape": {
        "columns": 8,
        "rows": 20
       }
      },
      "text/html": [
       "<div>\n",
       "<style scoped>\n",
       "    .dataframe tbody tr th:only-of-type {\n",
       "        vertical-align: middle;\n",
       "    }\n",
       "\n",
       "    .dataframe tbody tr th {\n",
       "        vertical-align: top;\n",
       "    }\n",
       "\n",
       "    .dataframe thead th {\n",
       "        text-align: right;\n",
       "    }\n",
       "</style>\n",
       "<table border=\"1\" class=\"dataframe\">\n",
       "  <thead>\n",
       "    <tr style=\"text-align: right;\">\n",
       "      <th></th>\n",
       "      <th>series_id</th>\n",
       "      <th>step</th>\n",
       "      <th>timestamp</th>\n",
       "      <th>anglez</th>\n",
       "      <th>enmo</th>\n",
       "      <th>event_pred</th>\n",
       "      <th>score</th>\n",
       "      <th>event</th>\n",
       "    </tr>\n",
       "  </thead>\n",
       "  <tbody>\n",
       "    <tr>\n",
       "      <th>40</th>\n",
       "      <td>038441c925bb</td>\n",
       "      <td>40</td>\n",
       "      <td>2018-08-14T15:33:20-0400</td>\n",
       "      <td>-79.996101</td>\n",
       "      <td>0.0135</td>\n",
       "      <td>1</td>\n",
       "      <td>0.623922</td>\n",
       "      <td>wakeup</td>\n",
       "    </tr>\n",
       "    <tr>\n",
       "      <th>53</th>\n",
       "      <td>038441c925bb</td>\n",
       "      <td>53</td>\n",
       "      <td>2018-08-14T15:34:25-0400</td>\n",
       "      <td>-80.014702</td>\n",
       "      <td>0.0137</td>\n",
       "      <td>1</td>\n",
       "      <td>0.611662</td>\n",
       "      <td>wakeup</td>\n",
       "    </tr>\n",
       "    <tr>\n",
       "      <th>330</th>\n",
       "      <td>0402a003dae9</td>\n",
       "      <td>30</td>\n",
       "      <td>2018-12-18T12:47:30-0500</td>\n",
       "      <td>-9.026300</td>\n",
       "      <td>0.0460</td>\n",
       "      <td>1</td>\n",
       "      <td>0.591007</td>\n",
       "      <td>wakeup</td>\n",
       "    </tr>\n",
       "    <tr>\n",
       "      <th>47</th>\n",
       "      <td>038441c925bb</td>\n",
       "      <td>47</td>\n",
       "      <td>2018-08-14T15:33:55-0400</td>\n",
       "      <td>-80.008202</td>\n",
       "      <td>0.0140</td>\n",
       "      <td>1</td>\n",
       "      <td>0.586525</td>\n",
       "      <td>wakeup</td>\n",
       "    </tr>\n",
       "    <tr>\n",
       "      <th>95</th>\n",
       "      <td>038441c925bb</td>\n",
       "      <td>95</td>\n",
       "      <td>2018-08-14T15:37:55-0400</td>\n",
       "      <td>-80.013603</td>\n",
       "      <td>0.0128</td>\n",
       "      <td>1</td>\n",
       "      <td>0.584171</td>\n",
       "      <td>wakeup</td>\n",
       "    </tr>\n",
       "    <tr>\n",
       "      <th>7</th>\n",
       "      <td>038441c925bb</td>\n",
       "      <td>7</td>\n",
       "      <td>2018-08-14T15:30:35-0400</td>\n",
       "      <td>2.636700</td>\n",
       "      <td>0.0218</td>\n",
       "      <td>1</td>\n",
       "      <td>0.581440</td>\n",
       "      <td>wakeup</td>\n",
       "    </tr>\n",
       "    <tr>\n",
       "      <th>79</th>\n",
       "      <td>038441c925bb</td>\n",
       "      <td>79</td>\n",
       "      <td>2018-08-14T15:36:35-0400</td>\n",
       "      <td>-79.977898</td>\n",
       "      <td>0.0133</td>\n",
       "      <td>1</td>\n",
       "      <td>0.577322</td>\n",
       "      <td>wakeup</td>\n",
       "    </tr>\n",
       "    <tr>\n",
       "      <th>145</th>\n",
       "      <td>038441c925bb</td>\n",
       "      <td>145</td>\n",
       "      <td>2018-08-14T15:42:05-0400</td>\n",
       "      <td>-79.990601</td>\n",
       "      <td>0.0135</td>\n",
       "      <td>1</td>\n",
       "      <td>0.576564</td>\n",
       "      <td>wakeup</td>\n",
       "    </tr>\n",
       "    <tr>\n",
       "      <th>416</th>\n",
       "      <td>0402a003dae9</td>\n",
       "      <td>116</td>\n",
       "      <td>2018-12-18T12:54:40-0500</td>\n",
       "      <td>-54.837002</td>\n",
       "      <td>0.0353</td>\n",
       "      <td>1</td>\n",
       "      <td>0.575557</td>\n",
       "      <td>wakeup</td>\n",
       "    </tr>\n",
       "    <tr>\n",
       "      <th>128</th>\n",
       "      <td>038441c925bb</td>\n",
       "      <td>128</td>\n",
       "      <td>2018-08-14T15:40:40-0400</td>\n",
       "      <td>-80.199600</td>\n",
       "      <td>0.0127</td>\n",
       "      <td>1</td>\n",
       "      <td>0.566737</td>\n",
       "      <td>wakeup</td>\n",
       "    </tr>\n",
       "    <tr>\n",
       "      <th>66</th>\n",
       "      <td>038441c925bb</td>\n",
       "      <td>66</td>\n",
       "      <td>2018-08-14T15:35:30-0400</td>\n",
       "      <td>-80.002998</td>\n",
       "      <td>0.0134</td>\n",
       "      <td>1</td>\n",
       "      <td>0.565022</td>\n",
       "      <td>wakeup</td>\n",
       "    </tr>\n",
       "    <tr>\n",
       "      <th>60</th>\n",
       "      <td>038441c925bb</td>\n",
       "      <td>60</td>\n",
       "      <td>2018-08-14T15:35:00-0400</td>\n",
       "      <td>-80.010300</td>\n",
       "      <td>0.0138</td>\n",
       "      <td>1</td>\n",
       "      <td>0.564639</td>\n",
       "      <td>wakeup</td>\n",
       "    </tr>\n",
       "    <tr>\n",
       "      <th>144</th>\n",
       "      <td>038441c925bb</td>\n",
       "      <td>144</td>\n",
       "      <td>2018-08-14T15:42:00-0400</td>\n",
       "      <td>-80.186897</td>\n",
       "      <td>0.0136</td>\n",
       "      <td>1</td>\n",
       "      <td>0.563868</td>\n",
       "      <td>wakeup</td>\n",
       "    </tr>\n",
       "    <tr>\n",
       "      <th>64</th>\n",
       "      <td>038441c925bb</td>\n",
       "      <td>64</td>\n",
       "      <td>2018-08-14T15:35:20-0400</td>\n",
       "      <td>-80.010696</td>\n",
       "      <td>0.0132</td>\n",
       "      <td>1</td>\n",
       "      <td>0.563677</td>\n",
       "      <td>wakeup</td>\n",
       "    </tr>\n",
       "    <tr>\n",
       "      <th>337</th>\n",
       "      <td>0402a003dae9</td>\n",
       "      <td>37</td>\n",
       "      <td>2018-12-18T12:48:05-0500</td>\n",
       "      <td>-52.164101</td>\n",
       "      <td>0.1512</td>\n",
       "      <td>1</td>\n",
       "      <td>0.562932</td>\n",
       "      <td>wakeup</td>\n",
       "    </tr>\n",
       "    <tr>\n",
       "      <th>90</th>\n",
       "      <td>038441c925bb</td>\n",
       "      <td>90</td>\n",
       "      <td>2018-08-14T15:37:30-0400</td>\n",
       "      <td>-79.979500</td>\n",
       "      <td>0.0127</td>\n",
       "      <td>1</td>\n",
       "      <td>0.562014</td>\n",
       "      <td>wakeup</td>\n",
       "    </tr>\n",
       "    <tr>\n",
       "      <th>132</th>\n",
       "      <td>038441c925bb</td>\n",
       "      <td>132</td>\n",
       "      <td>2018-08-14T15:41:00-0400</td>\n",
       "      <td>-80.132103</td>\n",
       "      <td>0.0136</td>\n",
       "      <td>1</td>\n",
       "      <td>0.561523</td>\n",
       "      <td>wakeup</td>\n",
       "    </tr>\n",
       "    <tr>\n",
       "      <th>105</th>\n",
       "      <td>038441c925bb</td>\n",
       "      <td>105</td>\n",
       "      <td>2018-08-14T15:38:45-0400</td>\n",
       "      <td>-80.057098</td>\n",
       "      <td>0.0132</td>\n",
       "      <td>1</td>\n",
       "      <td>0.561173</td>\n",
       "      <td>wakeup</td>\n",
       "    </tr>\n",
       "    <tr>\n",
       "      <th>54</th>\n",
       "      <td>038441c925bb</td>\n",
       "      <td>54</td>\n",
       "      <td>2018-08-14T15:34:30-0400</td>\n",
       "      <td>-80.006699</td>\n",
       "      <td>0.0136</td>\n",
       "      <td>1</td>\n",
       "      <td>0.560207</td>\n",
       "      <td>wakeup</td>\n",
       "    </tr>\n",
       "    <tr>\n",
       "      <th>41</th>\n",
       "      <td>038441c925bb</td>\n",
       "      <td>41</td>\n",
       "      <td>2018-08-14T15:33:25-0400</td>\n",
       "      <td>-79.986298</td>\n",
       "      <td>0.0137</td>\n",
       "      <td>1</td>\n",
       "      <td>0.559891</td>\n",
       "      <td>wakeup</td>\n",
       "    </tr>\n",
       "  </tbody>\n",
       "</table>\n",
       "</div>"
      ],
      "text/plain": [
       "        series_id  step                 timestamp     anglez    enmo  \\\n",
       "40   038441c925bb    40  2018-08-14T15:33:20-0400 -79.996101  0.0135   \n",
       "53   038441c925bb    53  2018-08-14T15:34:25-0400 -80.014702  0.0137   \n",
       "330  0402a003dae9    30  2018-12-18T12:47:30-0500  -9.026300  0.0460   \n",
       "47   038441c925bb    47  2018-08-14T15:33:55-0400 -80.008202  0.0140   \n",
       "95   038441c925bb    95  2018-08-14T15:37:55-0400 -80.013603  0.0128   \n",
       "7    038441c925bb     7  2018-08-14T15:30:35-0400   2.636700  0.0218   \n",
       "79   038441c925bb    79  2018-08-14T15:36:35-0400 -79.977898  0.0133   \n",
       "145  038441c925bb   145  2018-08-14T15:42:05-0400 -79.990601  0.0135   \n",
       "416  0402a003dae9   116  2018-12-18T12:54:40-0500 -54.837002  0.0353   \n",
       "128  038441c925bb   128  2018-08-14T15:40:40-0400 -80.199600  0.0127   \n",
       "66   038441c925bb    66  2018-08-14T15:35:30-0400 -80.002998  0.0134   \n",
       "60   038441c925bb    60  2018-08-14T15:35:00-0400 -80.010300  0.0138   \n",
       "144  038441c925bb   144  2018-08-14T15:42:00-0400 -80.186897  0.0136   \n",
       "64   038441c925bb    64  2018-08-14T15:35:20-0400 -80.010696  0.0132   \n",
       "337  0402a003dae9    37  2018-12-18T12:48:05-0500 -52.164101  0.1512   \n",
       "90   038441c925bb    90  2018-08-14T15:37:30-0400 -79.979500  0.0127   \n",
       "132  038441c925bb   132  2018-08-14T15:41:00-0400 -80.132103  0.0136   \n",
       "105  038441c925bb   105  2018-08-14T15:38:45-0400 -80.057098  0.0132   \n",
       "54   038441c925bb    54  2018-08-14T15:34:30-0400 -80.006699  0.0136   \n",
       "41   038441c925bb    41  2018-08-14T15:33:25-0400 -79.986298  0.0137   \n",
       "\n",
       "     event_pred     score   event  \n",
       "40            1  0.623922  wakeup  \n",
       "53            1  0.611662  wakeup  \n",
       "330           1  0.591007  wakeup  \n",
       "47            1  0.586525  wakeup  \n",
       "95            1  0.584171  wakeup  \n",
       "7             1  0.581440  wakeup  \n",
       "79            1  0.577322  wakeup  \n",
       "145           1  0.576564  wakeup  \n",
       "416           1  0.575557  wakeup  \n",
       "128           1  0.566737  wakeup  \n",
       "66            1  0.565022  wakeup  \n",
       "60            1  0.564639  wakeup  \n",
       "144           1  0.563868  wakeup  \n",
       "64            1  0.563677  wakeup  \n",
       "337           1  0.562932  wakeup  \n",
       "90            1  0.562014  wakeup  \n",
       "132           1  0.561523  wakeup  \n",
       "105           1  0.561173  wakeup  \n",
       "54            1  0.560207  wakeup  \n",
       "41            1  0.559891  wakeup  "
      ]
     },
     "execution_count": 13,
     "metadata": {},
     "output_type": "execute_result"
    }
   ],
   "source": [
    "test_series.sort_values(by=\"score\", ascending=False).head(20)"
   ]
  },
  {
   "cell_type": "code",
   "execution_count": 14,
   "metadata": {},
   "outputs": [
    {
     "data": {
      "image/png": "[encoded data removed]",
      "text/plain": [
       "<Figure size 1000x500 with 2 Axes>"
      ]
     },
     "metadata": {},
     "output_type": "display_data"
    }
   ],
   "source": [
    "import matplotlib.pyplot as plt\n",
    "\n",
    "plt.figure(figsize=(10, 5))\n",
    "plt.scatter(test_series[\"step\"], test_series[\"score\"], c=test_series[\"event_pred\"], cmap=\"coolwarm\", alpha=0.5)\n",
    "plt.xlabel(\"Paso en el tiempo (step)\")\n",
    "plt.ylabel(\"Confianza de evento\")\n",
    "plt.title(\"Predicciones de eventos de sueño\")\n",
    "plt.colorbar(label=\"Tipo de evento (0 = onset, 1 = wakeup)\")\n",
    "plt.show()"
   ]
  },
  {
   "cell_type": "markdown",
   "metadata": {},
   "source": [
    "### **Feature engineering**"
   ]
  },
  {
   "cell_type": "code",
   "execution_count": null,
   "metadata": {},
   "outputs": [
    {
     "name": "stdout",
     "output_type": "stream",
     "text": [
      "Index(['series_id', 'step', 'timestamp', 'anglez', 'enmo', 'anglez_diff',\n",
      "       'enmo_diff', 'anglez_rolling_mean', 'enmo_rolling_mean',\n",
      "       'anglez_rolling_std', 'enmo_rolling_std'],\n",
      "      dtype='object')\n"
     ]
    }
   ],
   "source": [
    "print(train_series.columns)"
   ]
  },
  {
   "cell_type": "code",
   "execution_count": 15,
   "metadata": {},
   "outputs": [
    {
     "ename": "KeyError",
     "evalue": "'event'",
     "output_type": "error",
     "traceback": [
      "\u001b[1;31m---------------------------------------------------------------------------\u001b[0m",
      "\u001b[1;31mKeyError\u001b[0m                                  Traceback (most recent call last)",
      "File \u001b[1;32mc:\\Users\\super\\anaconda3\\envs\\FlowNet\\lib\\site-packages\\pandas\\core\\indexes\\base.py:3805\u001b[0m, in \u001b[0;36mIndex.get_loc\u001b[1;34m(self, key)\u001b[0m\n\u001b[0;32m   3804\u001b[0m \u001b[38;5;28;01mtry\u001b[39;00m:\n\u001b[1;32m-> 3805\u001b[0m     \u001b[38;5;28;01mreturn\u001b[39;00m \u001b[38;5;28;43mself\u001b[39;49m\u001b[38;5;241;43m.\u001b[39;49m\u001b[43m_engine\u001b[49m\u001b[38;5;241;43m.\u001b[39;49m\u001b[43mget_loc\u001b[49m\u001b[43m(\u001b[49m\u001b[43mcasted_key\u001b[49m\u001b[43m)\u001b[49m\n\u001b[0;32m   3806\u001b[0m \u001b[38;5;28;01mexcept\u001b[39;00m \u001b[38;5;167;01mKeyError\u001b[39;00m \u001b[38;5;28;01mas\u001b[39;00m err:\n",
      "File \u001b[1;32mindex.pyx:167\u001b[0m, in \u001b[0;36mpandas._libs.index.IndexEngine.get_loc\u001b[1;34m()\u001b[0m\n",
      "File \u001b[1;32mindex.pyx:196\u001b[0m, in \u001b[0;36mpandas._libs.index.IndexEngine.get_loc\u001b[1;34m()\u001b[0m\n",
      "File \u001b[1;32mpandas\\\\_libs\\\\hashtable_class_helper.pxi:7081\u001b[0m, in \u001b[0;36mpandas._libs.hashtable.PyObjectHashTable.get_item\u001b[1;34m()\u001b[0m\n",
      "File \u001b[1;32mpandas\\\\_libs\\\\hashtable_class_helper.pxi:7089\u001b[0m, in \u001b[0;36mpandas._libs.hashtable.PyObjectHashTable.get_item\u001b[1;34m()\u001b[0m\n",
      "\u001b[1;31mKeyError\u001b[0m: 'event'",
      "\nThe above exception was the direct cause of the following exception:\n",
      "\u001b[1;31mKeyError\u001b[0m                                  Traceback (most recent call last)",
      "Cell \u001b[1;32mIn[15], line 24\u001b[0m\n\u001b[0;32m     20\u001b[0m feature_cols \u001b[38;5;241m=\u001b[39m [\u001b[38;5;124m\"\u001b[39m\u001b[38;5;124manglez\u001b[39m\u001b[38;5;124m\"\u001b[39m, \u001b[38;5;124m\"\u001b[39m\u001b[38;5;124menmo\u001b[39m\u001b[38;5;124m\"\u001b[39m, \u001b[38;5;124m\"\u001b[39m\u001b[38;5;124manglez_diff\u001b[39m\u001b[38;5;124m\"\u001b[39m, \u001b[38;5;124m\"\u001b[39m\u001b[38;5;124menmo_diff\u001b[39m\u001b[38;5;124m\"\u001b[39m, \u001b[38;5;124m\"\u001b[39m\u001b[38;5;124manglez_rolling_mean\u001b[39m\u001b[38;5;124m\"\u001b[39m, \u001b[38;5;124m\"\u001b[39m\u001b[38;5;124menmo_rolling_mean\u001b[39m\u001b[38;5;124m\"\u001b[39m,\n\u001b[0;32m     21\u001b[0m                 \u001b[38;5;124m\"\u001b[39m\u001b[38;5;124manglez_rolling_std\u001b[39m\u001b[38;5;124m\"\u001b[39m, \u001b[38;5;124m\"\u001b[39m\u001b[38;5;124menmo_rolling_std\u001b[39m\u001b[38;5;124m\"\u001b[39m]\n\u001b[0;32m     23\u001b[0m X_train \u001b[38;5;241m=\u001b[39m train_series[feature_cols]\n\u001b[1;32m---> 24\u001b[0m y_train \u001b[38;5;241m=\u001b[39m \u001b[43mtrain_series\u001b[49m\u001b[43m[\u001b[49m\u001b[38;5;124;43m\"\u001b[39;49m\u001b[38;5;124;43mevent\u001b[39;49m\u001b[38;5;124;43m\"\u001b[39;49m\u001b[43m]\u001b[49m  \u001b[38;5;66;03m# Asegúrate de que esté codificado numéricamente\u001b[39;00m\n\u001b[0;32m     26\u001b[0m X_test \u001b[38;5;241m=\u001b[39m test_series[feature_cols]\n",
      "File \u001b[1;32mc:\\Users\\super\\anaconda3\\envs\\FlowNet\\lib\\site-packages\\pandas\\core\\frame.py:4102\u001b[0m, in \u001b[0;36mDataFrame.__getitem__\u001b[1;34m(self, key)\u001b[0m\n\u001b[0;32m   4100\u001b[0m \u001b[38;5;28;01mif\u001b[39;00m \u001b[38;5;28mself\u001b[39m\u001b[38;5;241m.\u001b[39mcolumns\u001b[38;5;241m.\u001b[39mnlevels \u001b[38;5;241m>\u001b[39m \u001b[38;5;241m1\u001b[39m:\n\u001b[0;32m   4101\u001b[0m     \u001b[38;5;28;01mreturn\u001b[39;00m \u001b[38;5;28mself\u001b[39m\u001b[38;5;241m.\u001b[39m_getitem_multilevel(key)\n\u001b[1;32m-> 4102\u001b[0m indexer \u001b[38;5;241m=\u001b[39m \u001b[38;5;28;43mself\u001b[39;49m\u001b[38;5;241;43m.\u001b[39;49m\u001b[43mcolumns\u001b[49m\u001b[38;5;241;43m.\u001b[39;49m\u001b[43mget_loc\u001b[49m\u001b[43m(\u001b[49m\u001b[43mkey\u001b[49m\u001b[43m)\u001b[49m\n\u001b[0;32m   4103\u001b[0m \u001b[38;5;28;01mif\u001b[39;00m is_integer(indexer):\n\u001b[0;32m   4104\u001b[0m     indexer \u001b[38;5;241m=\u001b[39m [indexer]\n",
      "File \u001b[1;32mc:\\Users\\super\\anaconda3\\envs\\FlowNet\\lib\\site-packages\\pandas\\core\\indexes\\base.py:3812\u001b[0m, in \u001b[0;36mIndex.get_loc\u001b[1;34m(self, key)\u001b[0m\n\u001b[0;32m   3807\u001b[0m     \u001b[38;5;28;01mif\u001b[39;00m \u001b[38;5;28misinstance\u001b[39m(casted_key, \u001b[38;5;28mslice\u001b[39m) \u001b[38;5;129;01mor\u001b[39;00m (\n\u001b[0;32m   3808\u001b[0m         \u001b[38;5;28misinstance\u001b[39m(casted_key, abc\u001b[38;5;241m.\u001b[39mIterable)\n\u001b[0;32m   3809\u001b[0m         \u001b[38;5;129;01mand\u001b[39;00m \u001b[38;5;28many\u001b[39m(\u001b[38;5;28misinstance\u001b[39m(x, \u001b[38;5;28mslice\u001b[39m) \u001b[38;5;28;01mfor\u001b[39;00m x \u001b[38;5;129;01min\u001b[39;00m casted_key)\n\u001b[0;32m   3810\u001b[0m     ):\n\u001b[0;32m   3811\u001b[0m         \u001b[38;5;28;01mraise\u001b[39;00m InvalidIndexError(key)\n\u001b[1;32m-> 3812\u001b[0m     \u001b[38;5;28;01mraise\u001b[39;00m \u001b[38;5;167;01mKeyError\u001b[39;00m(key) \u001b[38;5;28;01mfrom\u001b[39;00m\u001b[38;5;250m \u001b[39m\u001b[38;5;21;01merr\u001b[39;00m\n\u001b[0;32m   3813\u001b[0m \u001b[38;5;28;01mexcept\u001b[39;00m \u001b[38;5;167;01mTypeError\u001b[39;00m:\n\u001b[0;32m   3814\u001b[0m     \u001b[38;5;66;03m# If we have a listlike key, _check_indexing_error will raise\u001b[39;00m\n\u001b[0;32m   3815\u001b[0m     \u001b[38;5;66;03m#  InvalidIndexError. Otherwise we fall through and re-raise\u001b[39;00m\n\u001b[0;32m   3816\u001b[0m     \u001b[38;5;66;03m#  the TypeError.\u001b[39;00m\n\u001b[0;32m   3817\u001b[0m     \u001b[38;5;28mself\u001b[39m\u001b[38;5;241m.\u001b[39m_check_indexing_error(key)\n",
      "\u001b[1;31mKeyError\u001b[0m: 'event'"
     ]
    }
   ],
   "source": [
    "# Crear nuevas features\n",
    "def feature_engineering(df):\n",
    "    df[\"anglez_diff\"] = df[\"anglez\"].diff()  # Diferencia entre valores consecutivos\n",
    "    df[\"enmo_diff\"] = df[\"enmo\"].diff()\n",
    "\n",
    "    df[\"anglez_rolling_mean\"] = df[\"anglez\"].rolling(window=10, min_periods=1).mean()\n",
    "    df[\"enmo_rolling_mean\"] = df[\"enmo\"].rolling(window=10, min_periods=1).mean()\n",
    "\n",
    "    df[\"anglez_rolling_std\"] = df[\"anglez\"].rolling(window=10, min_periods=1).std()\n",
    "    df[\"enmo_rolling_std\"] = df[\"enmo\"].rolling(window=10, min_periods=1).std()\n",
    "\n",
    "    df.fillna(0, inplace=True)  # Reemplazar NaN por 0\n",
    "    return df\n",
    "\n",
    "# Aplicar feature engineering al train y test\n",
    "train_series = feature_engineering(train_series)\n",
    "test_series = feature_engineering(test_series)\n",
    "\n",
    "# Seleccionar nuevas features\n",
    "feature_cols = [\"anglez\", \"enmo\", \"anglez_diff\", \"enmo_diff\", \"anglez_rolling_mean\", \"enmo_rolling_mean\",\n",
    "                \"anglez_rolling_std\", \"enmo_rolling_std\"]\n",
    "\n",
    "X_train = train_series[feature_cols]\n",
    "y_train = train_series[\"event\"]  # Asegúrate de que esté codificado numéricamente\n",
    "\n",
    "X_test = test_series[feature_cols]"
   ]
  },
  {
   "cell_type": "markdown",
   "metadata": {},
   "source": [
    "### **Submission**"
   ]
  },
  {
   "cell_type": "code",
   "execution_count": null,
   "metadata": {},
   "outputs": [],
   "source": [
    "# Crear archivo de envío\n",
    "submission = test_series[[\"series_id\", \"step_x\", \"event\", \"score\"]].rename(columns={\"step_x\": \"step\"})\n",
    "submission.insert(0, \"row_id\", range(len(submission)))\n",
    "\n",
    "# Guardar CSV\n",
    "submission.to_csv(\"submission.csv\", index=False)\n",
    "print(\"¡Archivo submission.csv guardado!\")"
   ]
  }
 ],
 "metadata": {
  "kernelspec": {
   "display_name": "FlowNet",
   "language": "python",
   "name": "python3"
  },
  "language_info": {
   "codemirror_mode": {
    "name": "ipython",
    "version": 3
   },
   "file_extension": ".py",
   "mimetype": "text/x-python",
   "name": "python",
   "nbconvert_exporter": "python",
   "pygments_lexer": "ipython3",
   "version": "3.10.16"
  }
 },
 "nbformat": 4,
 "nbformat_minor": 2
}
