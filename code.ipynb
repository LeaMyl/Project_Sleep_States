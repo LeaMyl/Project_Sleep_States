{
 "cells": [
  {
   "cell_type": "code",
   "execution_count": 2,
   "metadata": {},
   "outputs": [
    {
     "data": {
      "text/plain": [
       "WindowsPath('c:/Users/Sol/Desktop/IMT/AML/Code/Project_Sleep_States/Data/train_series.parquet')"
      ]
     },
     "execution_count": 2,
     "metadata": {},
     "output_type": "execute_result"
    }
   ],
   "source": [
    "import pandas as pd\n",
    "from pathlib import Path\n",
    "#import pyarrow.parquet as pq\n",
    "\n",
    "train_path = Path(Path.cwd(), 'Data', 'train_series.parquet')\n",
    "train_path"
   ]
  },
  {
   "cell_type": "code",
   "execution_count": 4,
   "metadata": {},
   "outputs": [
    {
     "name": "stdout",
     "output_type": "stream",
     "text": [
      "      series_id  step                 timestamp  anglez    enmo\n",
      "0  038441c925bb     0  2018-08-14T15:30:00-0400  2.6367  0.0217\n",
      "1  038441c925bb     1  2018-08-14T15:30:05-0400  2.6368  0.0215\n",
      "2  038441c925bb     2  2018-08-14T15:30:10-0400  2.6370  0.0216\n",
      "3  038441c925bb     3  2018-08-14T15:30:15-0400  2.6368  0.0213\n",
      "4  038441c925bb     4  2018-08-14T15:30:20-0400  2.6368  0.0215\n"
     ]
    }
   ],
   "source": [
    "# table = pq.read_table(path)\n",
    "# train_series = table.to_pandas()  # Convert to Pandas DataFrame if needed\n",
    "train_series = pd.read_parquet(train_path)\n",
    "print(train_series.head())"
   ]
  },
  {
   "cell_type": "code",
   "execution_count": 5,
   "metadata": {},
   "outputs": [],
   "source": [
    "train_path = Path(Path.cwd(), 'Data', 'train_events.csv')\n",
    "train_events = pd.read_csv(train_path)"
   ]
  },
  {
   "cell_type": "code",
   "execution_count": 6,
   "metadata": {},
   "outputs": [
    {
     "name": "stdout",
     "output_type": "stream",
     "text": [
      "      series_id  step                 timestamp  anglez    enmo\n",
      "0  038441c925bb     0  2018-08-14T15:30:00-0400  2.6367  0.0217\n",
      "1  038441c925bb     1  2018-08-14T15:30:05-0400  2.6368  0.0215\n",
      "2  038441c925bb     2  2018-08-14T15:30:10-0400  2.6370  0.0216\n",
      "3  038441c925bb     3  2018-08-14T15:30:15-0400  2.6368  0.0213\n",
      "4  038441c925bb     4  2018-08-14T15:30:20-0400  2.6368  0.0215\n",
      "      series_id  night   event     step                 timestamp\n",
      "0  038441c925bb      1   onset   4992.0  2018-08-14T22:26:00-0400\n",
      "1  038441c925bb      1  wakeup  10932.0  2018-08-15T06:41:00-0400\n",
      "2  038441c925bb      2   onset  20244.0  2018-08-15T19:37:00-0400\n",
      "3  038441c925bb      2  wakeup  27492.0  2018-08-16T05:41:00-0400\n",
      "4  038441c925bb      3   onset  39996.0  2018-08-16T23:03:00-0400\n",
      "<class 'pandas.core.frame.DataFrame'>\n",
      "RangeIndex: 127946340 entries, 0 to 127946339\n",
      "Data columns (total 5 columns):\n",
      " #   Column     Dtype  \n",
      "---  ------     -----  \n",
      " 0   series_id  object \n",
      " 1   step       uint32 \n",
      " 2   timestamp  object \n",
      " 3   anglez     float32\n",
      " 4   enmo       float32\n",
      "dtypes: float32(2), object(2), uint32(1)\n",
      "memory usage: 3.3+ GB\n",
      "None\n",
      "<class 'pandas.core.frame.DataFrame'>\n",
      "RangeIndex: 14508 entries, 0 to 14507\n",
      "Data columns (total 5 columns):\n",
      " #   Column     Non-Null Count  Dtype  \n",
      "---  ------     --------------  -----  \n",
      " 0   series_id  14508 non-null  object \n",
      " 1   night      14508 non-null  int64  \n",
      " 2   event      14508 non-null  object \n",
      " 3   step       9585 non-null   float64\n",
      " 4   timestamp  9585 non-null   object \n",
      "dtypes: float64(1), int64(1), object(3)\n",
      "memory usage: 566.8+ KB\n",
      "None\n"
     ]
    }
   ],
   "source": [
    "print(train_series.head())\n",
    "print(train_events.head())\n",
    "\n",
    "print(train_series.info())\n",
    "print(train_events.info())"
   ]
  },
  {
   "cell_type": "code",
   "execution_count": 10,
   "metadata": {},
   "outputs": [],
   "source": [
    "train_series = train_series[:10000]\n",
    "train_events = train_events[:10000]"
   ]
  },
  {
   "cell_type": "code",
   "execution_count": 15,
   "metadata": {},
   "outputs": [],
   "source": [
    "df = train_series.merge(train_events, on=\"series_id\", how=\"left\")"
   ]
  },
  {
   "cell_type": "code",
   "execution_count": 16,
   "metadata": {},
   "outputs": [
    {
     "data": {
      "text/html": [
       "<div>\n",
       "<style scoped>\n",
       "    .dataframe tbody tr th:only-of-type {\n",
       "        vertical-align: middle;\n",
       "    }\n",
       "\n",
       "    .dataframe tbody tr th {\n",
       "        vertical-align: top;\n",
       "    }\n",
       "\n",
       "    .dataframe thead th {\n",
       "        text-align: right;\n",
       "    }\n",
       "</style>\n",
       "<table border=\"1\" class=\"dataframe\">\n",
       "  <thead>\n",
       "    <tr style=\"text-align: right;\">\n",
       "      <th></th>\n",
       "      <th>series_id</th>\n",
       "      <th>step_x</th>\n",
       "      <th>timestamp_x</th>\n",
       "      <th>anglez</th>\n",
       "      <th>enmo</th>\n",
       "      <th>night</th>\n",
       "      <th>event</th>\n",
       "      <th>step_y</th>\n",
       "      <th>timestamp_y</th>\n",
       "    </tr>\n",
       "  </thead>\n",
       "  <tbody>\n",
       "    <tr>\n",
       "      <th>0</th>\n",
       "      <td>038441c925bb</td>\n",
       "      <td>0</td>\n",
       "      <td>2018-08-14T15:30:00-0400</td>\n",
       "      <td>2.6367</td>\n",
       "      <td>0.0217</td>\n",
       "      <td>1</td>\n",
       "      <td>onset</td>\n",
       "      <td>4992.0</td>\n",
       "      <td>2018-08-14T22:26:00-0400</td>\n",
       "    </tr>\n",
       "    <tr>\n",
       "      <th>1</th>\n",
       "      <td>038441c925bb</td>\n",
       "      <td>0</td>\n",
       "      <td>2018-08-14T15:30:00-0400</td>\n",
       "      <td>2.6367</td>\n",
       "      <td>0.0217</td>\n",
       "      <td>1</td>\n",
       "      <td>wakeup</td>\n",
       "      <td>10932.0</td>\n",
       "      <td>2018-08-15T06:41:00-0400</td>\n",
       "    </tr>\n",
       "    <tr>\n",
       "      <th>2</th>\n",
       "      <td>038441c925bb</td>\n",
       "      <td>0</td>\n",
       "      <td>2018-08-14T15:30:00-0400</td>\n",
       "      <td>2.6367</td>\n",
       "      <td>0.0217</td>\n",
       "      <td>2</td>\n",
       "      <td>onset</td>\n",
       "      <td>20244.0</td>\n",
       "      <td>2018-08-15T19:37:00-0400</td>\n",
       "    </tr>\n",
       "    <tr>\n",
       "      <th>3</th>\n",
       "      <td>038441c925bb</td>\n",
       "      <td>0</td>\n",
       "      <td>2018-08-14T15:30:00-0400</td>\n",
       "      <td>2.6367</td>\n",
       "      <td>0.0217</td>\n",
       "      <td>2</td>\n",
       "      <td>wakeup</td>\n",
       "      <td>27492.0</td>\n",
       "      <td>2018-08-16T05:41:00-0400</td>\n",
       "    </tr>\n",
       "    <tr>\n",
       "      <th>4</th>\n",
       "      <td>038441c925bb</td>\n",
       "      <td>0</td>\n",
       "      <td>2018-08-14T15:30:00-0400</td>\n",
       "      <td>2.6367</td>\n",
       "      <td>0.0217</td>\n",
       "      <td>3</td>\n",
       "      <td>onset</td>\n",
       "      <td>39996.0</td>\n",
       "      <td>2018-08-16T23:03:00-0400</td>\n",
       "    </tr>\n",
       "    <tr>\n",
       "      <th>...</th>\n",
       "      <td>...</td>\n",
       "      <td>...</td>\n",
       "      <td>...</td>\n",
       "      <td>...</td>\n",
       "      <td>...</td>\n",
       "      <td>...</td>\n",
       "      <td>...</td>\n",
       "      <td>...</td>\n",
       "      <td>...</td>\n",
       "    </tr>\n",
       "    <tr>\n",
       "      <th>459995</th>\n",
       "      <td>038441c925bb</td>\n",
       "      <td>9999</td>\n",
       "      <td>2018-08-15T05:23:15-0400</td>\n",
       "      <td>-13.0864</td>\n",
       "      <td>0.0085</td>\n",
       "      <td>21</td>\n",
       "      <td>wakeup</td>\n",
       "      <td>355944.0</td>\n",
       "      <td>2018-09-04T05:52:00-0400</td>\n",
       "    </tr>\n",
       "    <tr>\n",
       "      <th>459996</th>\n",
       "      <td>038441c925bb</td>\n",
       "      <td>9999</td>\n",
       "      <td>2018-08-15T05:23:15-0400</td>\n",
       "      <td>-13.0864</td>\n",
       "      <td>0.0085</td>\n",
       "      <td>22</td>\n",
       "      <td>onset</td>\n",
       "      <td>367020.0</td>\n",
       "      <td>2018-09-04T21:15:00-0400</td>\n",
       "    </tr>\n",
       "    <tr>\n",
       "      <th>459997</th>\n",
       "      <td>038441c925bb</td>\n",
       "      <td>9999</td>\n",
       "      <td>2018-08-15T05:23:15-0400</td>\n",
       "      <td>-13.0864</td>\n",
       "      <td>0.0085</td>\n",
       "      <td>22</td>\n",
       "      <td>wakeup</td>\n",
       "      <td>369912.0</td>\n",
       "      <td>2018-09-05T01:16:00-0400</td>\n",
       "    </tr>\n",
       "    <tr>\n",
       "      <th>459998</th>\n",
       "      <td>038441c925bb</td>\n",
       "      <td>9999</td>\n",
       "      <td>2018-08-15T05:23:15-0400</td>\n",
       "      <td>-13.0864</td>\n",
       "      <td>0.0085</td>\n",
       "      <td>23</td>\n",
       "      <td>onset</td>\n",
       "      <td>NaN</td>\n",
       "      <td>NaN</td>\n",
       "    </tr>\n",
       "    <tr>\n",
       "      <th>459999</th>\n",
       "      <td>038441c925bb</td>\n",
       "      <td>9999</td>\n",
       "      <td>2018-08-15T05:23:15-0400</td>\n",
       "      <td>-13.0864</td>\n",
       "      <td>0.0085</td>\n",
       "      <td>23</td>\n",
       "      <td>wakeup</td>\n",
       "      <td>NaN</td>\n",
       "      <td>NaN</td>\n",
       "    </tr>\n",
       "  </tbody>\n",
       "</table>\n",
       "<p>460000 rows × 9 columns</p>\n",
       "</div>"
      ],
      "text/plain": [
       "           series_id  step_x               timestamp_x   anglez    enmo  \\\n",
       "0       038441c925bb       0  2018-08-14T15:30:00-0400   2.6367  0.0217   \n",
       "1       038441c925bb       0  2018-08-14T15:30:00-0400   2.6367  0.0217   \n",
       "2       038441c925bb       0  2018-08-14T15:30:00-0400   2.6367  0.0217   \n",
       "3       038441c925bb       0  2018-08-14T15:30:00-0400   2.6367  0.0217   \n",
       "4       038441c925bb       0  2018-08-14T15:30:00-0400   2.6367  0.0217   \n",
       "...              ...     ...                       ...      ...     ...   \n",
       "459995  038441c925bb    9999  2018-08-15T05:23:15-0400 -13.0864  0.0085   \n",
       "459996  038441c925bb    9999  2018-08-15T05:23:15-0400 -13.0864  0.0085   \n",
       "459997  038441c925bb    9999  2018-08-15T05:23:15-0400 -13.0864  0.0085   \n",
       "459998  038441c925bb    9999  2018-08-15T05:23:15-0400 -13.0864  0.0085   \n",
       "459999  038441c925bb    9999  2018-08-15T05:23:15-0400 -13.0864  0.0085   \n",
       "\n",
       "        night   event    step_y               timestamp_y  \n",
       "0           1   onset    4992.0  2018-08-14T22:26:00-0400  \n",
       "1           1  wakeup   10932.0  2018-08-15T06:41:00-0400  \n",
       "2           2   onset   20244.0  2018-08-15T19:37:00-0400  \n",
       "3           2  wakeup   27492.0  2018-08-16T05:41:00-0400  \n",
       "4           3   onset   39996.0  2018-08-16T23:03:00-0400  \n",
       "...       ...     ...       ...                       ...  \n",
       "459995     21  wakeup  355944.0  2018-09-04T05:52:00-0400  \n",
       "459996     22   onset  367020.0  2018-09-04T21:15:00-0400  \n",
       "459997     22  wakeup  369912.0  2018-09-05T01:16:00-0400  \n",
       "459998     23   onset       NaN                       NaN  \n",
       "459999     23  wakeup       NaN                       NaN  \n",
       "\n",
       "[460000 rows x 9 columns]"
      ]
     },
     "execution_count": 16,
     "metadata": {},
     "output_type": "execute_result"
    }
   ],
   "source": [
    "df"
   ]
  },
  {
   "cell_type": "code",
   "execution_count": 17,
   "metadata": {},
   "outputs": [],
   "source": [
    "df = df.sort_values(by=[\"series_id\", \"step_x\"])"
   ]
  },
  {
   "cell_type": "code",
   "execution_count": 18,
   "metadata": {},
   "outputs": [
    {
     "name": "stdout",
     "output_type": "stream",
     "text": [
      "              precision    recall  f1-score   support\n",
      "\n",
      "           1       1.00      1.00      1.00     92000\n",
      "\n",
      "    accuracy                           1.00     92000\n",
      "   macro avg       1.00      1.00      1.00     92000\n",
      "weighted avg       1.00      1.00      1.00     92000\n",
      "\n"
     ]
    }
   ],
   "source": [
    "from sklearn.ensemble import RandomForestClassifier\n",
    "from sklearn.model_selection import train_test_split\n",
    "from sklearn.metrics import classification_report\n",
    "\n",
    "# Crear etiquetas (1 si es onset/wakeup, 0 si no)\n",
    "df['target'] = df['event'].notnull().astype(int)\n",
    "\n",
    "# Seleccionar variables de entrada\n",
    "features = [\"anglez\", \"enmo\"]\n",
    "X = df[features]\n",
    "y = df[\"target\"]\n",
    "\n",
    "# Dividir en entrenamiento y prueba\n",
    "X_train, X_test, y_train, y_test = train_test_split(X, y, test_size=0.2, random_state=42)\n",
    "\n",
    "# Entrenar el modelo\n",
    "clf = RandomForestClassifier(n_estimators=100, random_state=42)\n",
    "clf.fit(X_train, y_train)\n",
    "\n",
    "# Evaluar\n",
    "y_pred = clf.predict(X_test)\n",
    "print(classification_report(y_test, y_pred))"
   ]
  },
  {
   "cell_type": "code",
   "execution_count": 19,
   "metadata": {},
   "outputs": [
    {
     "name": "stdout",
     "output_type": "stream",
     "text": [
      "      series_id  step                 timestamp  anglez    enmo\n",
      "0  038441c925bb     0  2018-08-14T15:30:00-0400  2.6367  0.0217\n",
      "1  038441c925bb     1  2018-08-14T15:30:05-0400  2.6368  0.0215\n",
      "2  038441c925bb     2  2018-08-14T15:30:10-0400  2.6370  0.0216\n",
      "3  038441c925bb     3  2018-08-14T15:30:15-0400  2.6368  0.0213\n",
      "4  038441c925bb     4  2018-08-14T15:30:20-0400  2.6368  0.0215\n"
     ]
    }
   ],
   "source": [
    "test_path = Path(Path.cwd(), 'Data', 'test_series.parquet')\n",
    "test_series = pd.read_parquet(test_path)\n",
    "print(test_series.head())"
   ]
  },
  {
   "cell_type": "code",
   "execution_count": 21,
   "metadata": {},
   "outputs": [
    {
     "data": {
      "text/html": [
       "<div>\n",
       "<style scoped>\n",
       "    .dataframe tbody tr th:only-of-type {\n",
       "        vertical-align: middle;\n",
       "    }\n",
       "\n",
       "    .dataframe tbody tr th {\n",
       "        vertical-align: top;\n",
       "    }\n",
       "\n",
       "    .dataframe thead th {\n",
       "        text-align: right;\n",
       "    }\n",
       "</style>\n",
       "<table border=\"1\" class=\"dataframe\">\n",
       "  <thead>\n",
       "    <tr style=\"text-align: right;\">\n",
       "      <th></th>\n",
       "      <th>anglez</th>\n",
       "      <th>enmo</th>\n",
       "    </tr>\n",
       "  </thead>\n",
       "  <tbody>\n",
       "    <tr>\n",
       "      <th>0</th>\n",
       "      <td>2.636700</td>\n",
       "      <td>0.0217</td>\n",
       "    </tr>\n",
       "    <tr>\n",
       "      <th>1</th>\n",
       "      <td>2.636800</td>\n",
       "      <td>0.0215</td>\n",
       "    </tr>\n",
       "    <tr>\n",
       "      <th>2</th>\n",
       "      <td>2.637000</td>\n",
       "      <td>0.0216</td>\n",
       "    </tr>\n",
       "    <tr>\n",
       "      <th>3</th>\n",
       "      <td>2.636800</td>\n",
       "      <td>0.0213</td>\n",
       "    </tr>\n",
       "    <tr>\n",
       "      <th>4</th>\n",
       "      <td>2.636800</td>\n",
       "      <td>0.0215</td>\n",
       "    </tr>\n",
       "    <tr>\n",
       "      <th>...</th>\n",
       "      <td>...</td>\n",
       "      <td>...</td>\n",
       "    </tr>\n",
       "    <tr>\n",
       "      <th>445</th>\n",
       "      <td>-59.696899</td>\n",
       "      <td>0.0601</td>\n",
       "    </tr>\n",
       "    <tr>\n",
       "      <th>446</th>\n",
       "      <td>-35.656601</td>\n",
       "      <td>0.0427</td>\n",
       "    </tr>\n",
       "    <tr>\n",
       "      <th>447</th>\n",
       "      <td>-21.582399</td>\n",
       "      <td>0.0309</td>\n",
       "    </tr>\n",
       "    <tr>\n",
       "      <th>448</th>\n",
       "      <td>-42.616001</td>\n",
       "      <td>0.0328</td>\n",
       "    </tr>\n",
       "    <tr>\n",
       "      <th>449</th>\n",
       "      <td>7.029900</td>\n",
       "      <td>0.0081</td>\n",
       "    </tr>\n",
       "  </tbody>\n",
       "</table>\n",
       "<p>450 rows × 2 columns</p>\n",
       "</div>"
      ],
      "text/plain": [
       "        anglez    enmo\n",
       "0     2.636700  0.0217\n",
       "1     2.636800  0.0215\n",
       "2     2.637000  0.0216\n",
       "3     2.636800  0.0213\n",
       "4     2.636800  0.0215\n",
       "..         ...     ...\n",
       "445 -59.696899  0.0601\n",
       "446 -35.656601  0.0427\n",
       "447 -21.582399  0.0309\n",
       "448 -42.616001  0.0328\n",
       "449   7.029900  0.0081\n",
       "\n",
       "[450 rows x 2 columns]"
      ]
     },
     "execution_count": 21,
     "metadata": {},
     "output_type": "execute_result"
    }
   ],
   "source": [
    "# Seleccionar las mismas características que usaste para entrenar\n",
    "X_test = test_series[[\"anglez\", \"enmo\"]]\n",
    "X_test"
   ]
  },
  {
   "cell_type": "code",
   "execution_count": 23,
   "metadata": {},
   "outputs": [],
   "source": [
    "test_series[\"predictions\"] = clf.predict(X_test)\n",
    "test_series[\"score\"] = clf.predict_proba(X_test)[:, 0]\n",
    "\n",
    "events_detected = test_series[test_series[\"predictions\"] == 1].copy()"
   ]
  },
  {
   "cell_type": "code",
   "execution_count": 24,
   "metadata": {},
   "outputs": [
    {
     "name": "stdout",
     "output_type": "stream",
     "text": [
      "target\n",
      "1    368000\n",
      "Name: count, dtype: int64\n"
     ]
    }
   ],
   "source": [
    "print(pd.Series(y_train).value_counts())"
   ]
  },
  {
   "cell_type": "code",
   "execution_count": null,
   "metadata": {},
   "outputs": [],
   "source": [
    "import numpy as np\n",
    "events_detected[\"event\"] = np.where(np.random.rand(len(events_detected)) > 0.5, \"onset\", \"wakeup\")\n",
    "\n",
    "# Crear un ID único para cada evento detectado\n",
    "events_detected[\"row_id\"] = range(len(events_detected))\n",
    "\n",
    "# Seleccionar columnas requeridas\n",
    "submission = events_detected[[\"row_id\", \"series_id\", \"step\", \"event\", \"score\"]]\n",
    "\n",
    "# Guardar archivo CSV\n",
    "submission.to_csv(\"submission.csv\", index=False)\n",
    "\n",
    "print(\"Archivo submission.csv guardado.\")"
   ]
  }
 ],
 "metadata": {
  "kernelspec": {
   "display_name": "AML",
   "language": "python",
   "name": "python3"
  },
  "language_info": {
   "codemirror_mode": {
    "name": "ipython",
    "version": 3
   },
   "file_extension": ".py",
   "mimetype": "text/x-python",
   "name": "python",
   "nbconvert_exporter": "python",
   "pygments_lexer": "ipython3",
   "version": "3.9.21"
  }
 },
 "nbformat": 4,
 "nbformat_minor": 2
}
